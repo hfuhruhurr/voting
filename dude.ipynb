{
 "cells": [
  {
   "cell_type": "code",
   "execution_count": 5,
   "metadata": {},
   "outputs": [],
   "source": [
    "from bs4 import BeautifulSoup"
   ]
  },
  {
   "cell_type": "code",
   "execution_count": 25,
   "metadata": {},
   "outputs": [],
   "source": [
    "with open('roll-call-votes.html', 'r') as f:\n",
    "    html = f.read()\n",
    "    soup = BeautifulSoup(html, 'html.parser')"
   ]
  },
  {
   "cell_type": "code",
   "execution_count": 26,
   "metadata": {},
   "outputs": [],
   "source": [
    "chambers = soup.find_all('div', class_ = 'column-equal')\n",
    "house = chambers[0]\n",
    "senate = chambers[1]"
   ]
  },
  {
   "cell_type": "code",
   "execution_count": 55,
   "metadata": {},
   "outputs": [],
   "source": [
    "sessions = house.select('ul.plain.list-w-multiple-links > li')"
   ]
  },
  {
   "cell_type": "code",
   "execution_count": 58,
   "metadata": {},
   "outputs": [
    {
     "name": "stdout",
     "output_type": "stream",
     "text": [
      "['https://clerk.house.gov/Votes?CongressNum=118&Session=1st', 'https://clerk.house.gov/Votes?CongressNum=118&Session=2nd']\n",
      "['https://clerk.house.gov/Votes?CongressNum=117&Session=1st', 'https://clerk.house.gov/Votes?CongressNum=117&Session=2nd']\n",
      "['https://clerk.house.gov/Votes?CongressNum=116&Session=1st', 'https://clerk.house.gov/Votes?CongressNum=116&Session=2nd']\n",
      "['https://clerk.house.gov/Votes?CongressNum=115&Session=1st', 'https://clerk.house.gov/Votes?CongressNum=115&Session=2nd']\n",
      "['https://clerk.house.gov/Votes?CongressNum=114&Session=1st', 'https://clerk.house.gov/Votes?CongressNum=114&Session=2nd']\n",
      "['https://clerk.house.gov/Votes?CongressNum=113&Session=1st', 'https://clerk.house.gov/Votes?CongressNum=113&Session=2nd']\n",
      "['https://clerk.house.gov/Votes?CongressNum=112&Session=1st', 'https://clerk.house.gov/Votes?CongressNum=112&Session=2nd']\n",
      "['https://clerk.house.gov/Votes?CongressNum=111&Session=1st', 'https://clerk.house.gov/Votes?CongressNum=111&Session=2nd']\n",
      "['https://clerk.house.gov/Votes?CongressNum=110&Session=1st', 'https://clerk.house.gov/Votes?CongressNum=110&Session=2nd']\n",
      "['https://clerk.house.gov/Votes?CongressNum=109&Session=1st', 'https://clerk.house.gov/Votes?CongressNum=109&Session=2nd']\n",
      "['https://clerk.house.gov/Votes?CongressNum=108&Session=1st', 'https://clerk.house.gov/Votes?CongressNum=108&Session=2nd']\n",
      "['https://clerk.house.gov/Votes?CongressNum=107&Session=1st', 'https://clerk.house.gov/Votes?CongressNum=107&Session=2nd']\n",
      "['https://clerk.house.gov/Votes?CongressNum=106&Session=1st', 'https://clerk.house.gov/Votes?CongressNum=106&Session=2nd']\n",
      "['https://clerk.house.gov/Votes?CongressNum=105&Session=1st', 'https://clerk.house.gov/Votes?CongressNum=105&Session=2nd']\n",
      "['https://clerk.house.gov/Votes?CongressNum=104&Session=1st', 'https://clerk.house.gov/Votes?CongressNum=104&Session=2nd']\n",
      "['https://clerk.house.gov/Votes?CongressNum=103&Session=1st', 'https://clerk.house.gov/Votes?CongressNum=103&Session=2nd']\n",
      "['https://clerk.house.gov/Votes?CongressNum=102&Session=1st', 'https://clerk.house.gov/Votes?CongressNum=102&Session=2nd']\n",
      "['https://clerk.house.gov/Votes?CongressNum=101&Session=2nd']\n"
     ]
    }
   ],
   "source": [
    "dude = []\n",
    "for session in sessions:\n",
    "    congress_number = session.find('span', class_ = 'title').find('strong').text\n",
    "    # print(congress_number)\n",
    "\n",
    "    sessionn_links = session.select('ul > li > a')\n",
    "    urls = [link['href'] for link in sessionn_links]\n",
    "    print(urls)\n",
    "\n",
    "    dude.append({\n",
    "        'congress_number': congress_number,\n",
    "        'urls': urls,\n",
    "    })\n"
   ]
  },
  {
   "cell_type": "code",
   "execution_count": 57,
   "metadata": {},
   "outputs": [
    {
     "name": "stdout",
     "output_type": "stream",
     "text": [
      "[<a href=\"https://clerk.house.gov/Votes?CongressNum=118&amp;Session=1st\" target=\"_blank\">1st Session</a>, <a href=\"https://clerk.house.gov/Votes?CongressNum=118&amp;Session=2nd\" target=\"_blank\">2nd Session</a>]\n"
     ]
    }
   ],
   "source": [
    "print(sessions[0].select('ul > li > a'))"
   ]
  },
  {
   "cell_type": "code",
   "execution_count": null,
   "metadata": {},
   "outputs": [],
   "source": []
  }
 ],
 "metadata": {
  "kernelspec": {
   "display_name": ".venv",
   "language": "python",
   "name": "python3"
  },
  "language_info": {
   "codemirror_mode": {
    "name": "ipython",
    "version": 3
   },
   "file_extension": ".py",
   "mimetype": "text/x-python",
   "name": "python",
   "nbconvert_exporter": "python",
   "pygments_lexer": "ipython3",
   "version": "3.12.7"
  }
 },
 "nbformat": 4,
 "nbformat_minor": 2
}
